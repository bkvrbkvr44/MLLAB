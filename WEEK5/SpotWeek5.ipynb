{
 "cells": [
  {
   "cell_type": "code",
   "execution_count": 19,
   "metadata": {},
   "outputs": [],
   "source": [
    "def step_function(x):\n",
    "    return 1 if x >= 0 else 0"
   ]
  },
  {
   "cell_type": "code",
   "execution_count": 20,
   "metadata": {},
   "outputs": [],
   "source": [
    "def XOR(x1, x2):\n",
    "    # Define the specific weights and biases for the perceptrons\n",
    "    w11, w12, b1 = 20, 20, -10\n",
    "    w21, w22, b2 = -20, -20, 30\n",
    "    w3, w4, b3 = 20, 20, -30\n",
    "\n",
    "    # Calculate the outputs of the hidden layer (perceptrons 1 and 2)\n",
    "    hidden_output1 = step_function(w11 * x1 + w12 * x2 + b1)\n",
    "    hidden_output2 = step_function(w21 * x1 + w22 * x2 + b2)\n",
    "\n",
    "    # Calculate the output of the final layer (perceptron 3)\n",
    "    final_output = step_function(w3 * hidden_output1 + w4 * hidden_output2 + b3)\n",
    "\n",
    "    return final_output\n"
   ]
  },
  {
   "cell_type": "code",
   "execution_count": 21,
   "metadata": {},
   "outputs": [
    {
     "name": "stdout",
     "output_type": "stream",
     "text": [
      "XOR(0, 0) = 0\n",
      "XOR(0, 1) = 0\n",
      "XOR(1, 0) = 1\n",
      "XOR(1, 1) = 1\n"
     ]
    }
   ],
   "source": [
    "# Test the XOR function\n",
    "print(\"XOR(0, 0) =\", XOR(0, 0))\n",
    "print(\"XOR(0, 1) =\", XOR(0, 1))\n",
    "print(\"XOR(1, 0) =\", XOR(1, 0))\n",
    "print(\"XOR(1, 1) =\", XOR(1, 1))\n",
    "                                 "
   ]
  },
  {
   "cell_type": "code",
   "execution_count": null,
   "metadata": {},
   "outputs": [],
   "source": []
  }
 ],
 "metadata": {
  "kernelspec": {
   "display_name": "Python 3",
   "language": "python",
   "name": "python3"
  },
  "language_info": {
   "codemirror_mode": {
    "name": "ipython",
    "version": 3
   },
   "file_extension": ".py",
   "mimetype": "text/x-python",
   "name": "python",
   "nbconvert_exporter": "python",
   "pygments_lexer": "ipython3",
   "version": "3.7.6"
  }
 },
 "nbformat": 4,
 "nbformat_minor": 4
}
