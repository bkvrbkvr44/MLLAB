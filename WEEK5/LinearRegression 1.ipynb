{
 "cells": [
  {
   "cell_type": "code",
   "execution_count": 1,
   "metadata": {},
   "outputs": [],
   "source": [
    "import numpy as np"
   ]
  },
  {
   "cell_type": "code",
   "execution_count": 2,
   "metadata": {},
   "outputs": [],
   "source": [
    "x = np.array([5, 7, 8, 7, 2, 17, 2, 9, 4, 11, 12, 9, 6])\n",
    "y = np.array([99, 86, 87, 88, 111, 86, 103, 87, 94, 78, 77, 85, 86])"
   ]
  },
  {
   "cell_type": "code",
   "execution_count": 3,
   "metadata": {},
   "outputs": [],
   "source": [
    "mean_x = np.mean(x)\n",
    "mean_y = np.mean(y)\n",
    "variance_x = np.var(x, ddof=1)  # Use ddof=1 for sample variance\n",
    "variance_y = np.var(y, ddof=1)"
   ]
  },
  {
   "cell_type": "code",
   "execution_count": 4,
   "metadata": {},
   "outputs": [],
   "source": [
    "covariance_xy = np.cov(x, y, ddof=1)[0, 1]  # Covariance between x and y\n",
    "slope_m = covariance_xy / variance_x  # Slope (m)\n",
    "intercept_b = mean_y - slope_m * mean_x  # Intercept (b)"
   ]
  },
  {
   "cell_type": "code",
   "execution_count": 5,
   "metadata": {},
   "outputs": [],
   "source": [
    "predictions = slope_m * x + intercept_b\n",
    "\n",
    "# 4. Predict y for any value of x\n",
    "new_x = 10  # Replace with the value of x for which you want to predict y\n",
    "predicted_y = slope_m * new_x + intercept_b"
   ]
  },
  {
   "cell_type": "code",
   "execution_count": 6,
   "metadata": {},
   "outputs": [
    {
     "name": "stdout",
     "output_type": "stream",
     "text": [
      "Mean of x: 7.62\n",
      "Mean of y: 89.77\n",
      "Variance of x: 17.42\n",
      "Variance of y: 92.86\n"
     ]
    }
   ],
   "source": [
    "# Print Mean and Variance\n",
    "print(f\"Mean of x: {mean_x:.2f}\")\n",
    "print(f\"Mean of y: {mean_y:.2f}\")\n",
    "print(f\"Variance of x: {variance_x:.2f}\")\n",
    "print(f\"Variance of y: {variance_y:.2f}\")"
   ]
  },
  {
   "cell_type": "code",
   "execution_count": 7,
   "metadata": {},
   "outputs": [
    {
     "name": "stdout",
     "output_type": "stream",
     "text": [
      "Slope (m): -1.75\n",
      "Intercept (b): 103.11\n"
     ]
    }
   ],
   "source": [
    "print(f\"Slope (m): {slope_m:.2f}\")\n",
    "print(f\"Intercept (b): {intercept_b:.2f}\")"
   ]
  },
  {
   "cell_type": "code",
   "execution_count": 8,
   "metadata": {},
   "outputs": [
    {
     "name": "stdout",
     "output_type": "stream",
     "text": [
      "Predictions:\n",
      "x = 5, Predicted y = 94.35\n",
      "x = 7, Predicted y = 90.85\n",
      "x = 8, Predicted y = 89.10\n",
      "x = 7, Predicted y = 90.85\n",
      "x = 2, Predicted y = 99.60\n",
      "x = 17, Predicted y = 73.33\n",
      "x = 2, Predicted y = 99.60\n",
      "x = 9, Predicted y = 87.34\n",
      "x = 4, Predicted y = 96.10\n",
      "x = 11, Predicted y = 83.84\n",
      "x = 12, Predicted y = 82.09\n",
      "x = 9, Predicted y = 87.34\n",
      "x = 6, Predicted y = 92.60\n"
     ]
    }
   ],
   "source": [
    "# Print Predictions\n",
    "print(\"Predictions:\")\n",
    "for i in range(len(x)):\n",
    "    print(f\"x = {x[i]}, Predicted y = {predictions[i]:.2f}\")"
   ]
  },
  {
   "cell_type": "code",
   "execution_count": 9,
   "metadata": {},
   "outputs": [
    {
     "name": "stdout",
     "output_type": "stream",
     "text": [
      "For x = 10, Predicted y = 85.59\n"
     ]
    }
   ],
   "source": [
    "# Print Predicted y for a new value of x\n",
    "print(f\"For x = {new_x}, Predicted y = {predicted_y:.2f}\")"
   ]
  },
  {
   "cell_type": "code",
   "execution_count": null,
   "metadata": {},
   "outputs": [],
   "source": []
  }
 ],
 "metadata": {
  "kernelspec": {
   "display_name": "Python 3 (ipykernel)",
   "language": "python",
   "name": "python3"
  },
  "language_info": {
   "codemirror_mode": {
    "name": "ipython",
    "version": 3
   },
   "file_extension": ".py",
   "mimetype": "text/x-python",
   "name": "python",
   "nbconvert_exporter": "python",
   "pygments_lexer": "ipython3",
   "version": "3.12.0"
  }
 },
 "nbformat": 4,
 "nbformat_minor": 4
}
