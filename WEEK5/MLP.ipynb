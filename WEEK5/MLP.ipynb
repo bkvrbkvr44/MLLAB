{
 "cells": [
  {
   "cell_type": "code",
   "execution_count": 1,
   "metadata": {},
   "outputs": [
    {
     "data": {
      "image/png": "[encoded data removed]",
      "text/plain": [
       "<Figure size 432x288 with 1 Axes>"
      ]
     },
     "metadata": {
      "needs_background": "light"
     },
     "output_type": "display_data"
    }
   ],
   "source": [
    "import numpy as np\n",
    "import matplotlib.pyplot as plt\n",
    "\n",
    "# Generate synthetic data for a single class (class 0)\n",
    "np.random.seed(0)\n",
    "X_train = np.random.rand(100, 784)\n",
    "y_train = np.zeros(100)\n",
    "\n",
    "X_test = np.random.rand(20, 784)\n",
    "y_test = np.zeros(20)\n",
    "\n",
    "# Define the Perceptron class\n",
    "class Perceptron:\n",
    "    def __init__(self, input_size):\n",
    "        self.weights = np.random.uniform(-0.05, 0.05, input_size)\n",
    "        self.bias = 0.0\n",
    "\n",
    "    def predict(self, inputs):\n",
    "        activation = np.dot(inputs, self.weights) + self.bias\n",
    "        return 1 if activation > 0 else 0\n",
    "\n",
    "    def train(self, inputs, target, learning_rate):\n",
    "        prediction = self.predict(inputs)\n",
    "        error = target - prediction\n",
    "        self.weights += learning_rate * error * inputs\n",
    "        self.bias += learning_rate * error\n",
    "\n",
    "# Define a function to train and evaluate the perceptron model\n",
    "def train_and_evaluate(learning_rate):\n",
    "    perceptron = Perceptron(784)\n",
    "    train_accuracy = []\n",
    "    test_accuracy = []\n",
    "\n",
    "    for epoch in range(51):\n",
    "        correct_train = 0\n",
    "        for i in range(len(X_train)):\n",
    "            target = 1 if y_train[i] == 0 else 0\n",
    "            prediction = perceptron.predict(X_train[i])\n",
    "            perceptron.train(X_train[i], target, learning_rate)\n",
    "            if prediction == target:\n",
    "                correct_train += 1\n",
    "\n",
    "        train_accuracy.append(correct_train / len(X_train))\n",
    "\n",
    "        correct_test = 0\n",
    "        for i in range(len(X_test)):\n",
    "            tx`arget = 1 if y_test[i] == 0 else 0\n",
    "            if perceptron.predict(X_test[i]) == target:\n",
    "                correct_test += 1\n",
    "\n",
    "        test_accuracy.append(correct_test / len(X_test))\n",
    "\n",
    "    return train_accuracy, test_accuracy\n",
    "\n",
    "# Perform the experiment for one learning rate\n",
    "learning_rate = 0.01\n",
    "train_acc, test_acc = train_and_evaluate(learning_rate)\n",
    "\n",
    "# Plot training and test accuracy\n",
    "plt.plot(range(51), train_acc, label=f'Learning Rate {learning_rate}')\n",
    "plt.xlabel('Epochs')\n",
    "plt.ylabel('Accuracy')\n",
    "plt.title('Training and Test Accuracy')\n",
    "plt.legend()\n",
    "plt.show()\n"
   ]
  },
  {
   "cell_type": "code",
   "execution_count": null,
   "metadata": {},
   "outputs": [],
   "source": []
  }
 ],
 "metadata": {
  "kernelspec": {
   "display_name": "Python 3",
   "language": "python",
   "name": "python3"
  },
  "language_info": {
   "codemirror_mode": {
    "name": "ipython",
    "version": 3
   },
   "file_extension": ".py",
   "mimetype": "text/x-python",
   "name": "python",
   "nbconvert_exporter": "python",
   "pygments_lexer": "ipython3",
   "version": "3.7.6"
  }
 },
 "nbformat": 4,
 "nbformat_minor": 4
}
