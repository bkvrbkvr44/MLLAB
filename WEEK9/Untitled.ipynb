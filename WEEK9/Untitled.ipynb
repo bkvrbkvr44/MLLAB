{
 "cells": [
  {
   "cell_type": "code",
   "execution_count": 9,
   "metadata": {},
   "outputs": [
    {
     "name": "stdout",
     "output_type": "stream",
     "text": [
      "Cluster 1 Centroid: [5.88360656 2.74098361 4.38852459 1.43442623]\n",
      "Jaccard Distance for Cluster 1: 1.0\n",
      "Cluster 2 Centroid: [5.00408163 3.41632653 1.46530612 0.24489796]\n",
      "Jaccard Distance for Cluster 2: 1.0\n",
      "Cluster 3 Centroid: [6.85384615 3.07692308 5.71538462 2.05384615]\n",
      "Jaccard Distance for Cluster 3: 0.14792899408284022\n"
     ]
    }
   ],
   "source": [
    "import numpy as np\n",
    "from sklearn.cluster import KMeans\n",
    "from sklearn.metrics import jaccard_score\n",
    "from sklearn.preprocessing import LabelEncoder\n",
    "\n",
    "data = pd.read_csv('data4_19.csv')\n",
    "\n",
    "X = data.iloc[:, :-1].values\n",
    "\n",
    "ground_truth_labels = data.iloc[:, -1].values\n",
    "\n",
    "kmeans = KMeans(n_clusters=3, init='random', n_init=1, random_state=42)\n",
    "\n",
    "kmeans.fit(X)\n",
    "\n",
    "cluster_centroids = kmeans.cluster_centers_\n",
    "\n",
    "cluster_assignments = kmeans.labels_\n",
    "\n",
    "label_encoder = LabelEncoder()\n",
    "ground_truth_encoded = label_encoder.fit_transform(ground_truth_labels)\n",
    "\n",
    "jaccard_distances = []\n",
    "for cluster_num in range(3):\n",
    "    cluster_indices = np.where(cluster_assignments == cluster_num)[0]\n",
    "    ground_truth_cluster = ground_truth_encoded[cluster_indices]\n",
    "    jaccard_distance = 1.0 - jaccard_score(ground_truth_cluster, np.full_like(ground_truth_cluster, cluster_num), average='weighted')\n",
    "    jaccard_distances.append(jaccard_distance)\n",
    "\n",
    "for cluster_num, centroid in enumerate(cluster_centroids):\n",
    "    print(f\"Cluster {cluster_num + 1} Centroid: {centroid}\")\n",
    "    print(f\"Jaccard Distance for Cluster {cluster_num + 1}: {jaccard_distances[cluster_num]}\")\n",
    "\n",
    "\n"
   ]
  },
  {
   "cell_type": "code",
   "execution_count": null,
   "metadata": {},
   "outputs": [],
   "source": []
  },
  {
   "cell_type": "code",
   "execution_count": null,
   "metadata": {},
   "outputs": [],
   "source": []
  }
 ],
 "metadata": {
  "kernelspec": {
   "display_name": "Python 3",
   "language": "python",
   "name": "python3"
  },
  "language_info": {
   "codemirror_mode": {
    "name": "ipython",
    "version": 3
   },
   "file_extension": ".py",
   "mimetype": "text/x-python",
   "name": "python",
   "nbconvert_exporter": "python",
   "pygments_lexer": "ipython3",
   "version": "3.7.6"
  }
 },
 "nbformat": 4,
 "nbformat_minor": 4
}
