{
 "cells": [
  {
   "cell_type": "code",
   "execution_count": 6,
   "metadata": {},
   "outputs": [
    {
     "name": "stdout",
     "output_type": "stream",
     "text": [
      "Clusters:\n",
      "Data point: [0.34, -0.2, 1.13, 4.3], Cluster: centroid1\n",
      "Data point: [5.1, -12.6, -7.0, 1.9], Cluster: centroid1\n",
      "Data point: [-15.7, 0.06, -7.1, 11.2], Cluster: centroid1\n",
      "\n",
      "Final Centroids:\n",
      "Centroid name: centroid1, Location: [-3.42, -4.246666666666666, -4.323333333333333, 5.8]\n",
      "Centroid name: centroid2, Location: [9.3, 6.1, -4.7, 0.18]\n"
     ]
    }
   ],
   "source": [
    "import numpy as np\n",
    "\n",
    "def euclidean_distance(point1, point2):\n",
    "    return np.linalg.norm(np.array(point1) - np.array(point2))\n",
    "\n",
    "def assign_points_to_clusters(data, centroids):\n",
    "    clusters = []\n",
    "    for point in data:\n",
    "        distances = [euclidean_distance(point, centroid) for centroid in centroids.values()]\n",
    "        cluster_index = np.argmin(distances)\n",
    "        cluster_name = list(centroids.keys())[cluster_index]\n",
    "        clusters.append(cluster_name)\n",
    "    return clusters\n",
    "\n",
    "def update_centroids(data, clusters, centroids):\n",
    "    new_centroids = {centroid_name: [] for centroid_name in centroids.keys()}\n",
    "    for point, cluster_name in zip(data, clusters):\n",
    "        new_centroids[cluster_name].append(point)\n",
    "    for centroid_name, points in new_centroids.items():\n",
    "        if len(points) > 0:\n",
    "            new_centroids[centroid_name] = np.mean(points, axis=0).tolist()\n",
    "        else:\n",
    "            new_centroids[centroid_name] = centroids[centroid_name]\n",
    "    return new_centroids\n",
    "\n",
    "def k_means_clustering(data, centroids, num_iterations=10):\n",
    "    for _ in range(num_iterations):\n",
    "        clusters = assign_points_to_clusters(data, centroids)\n",
    "        new_centroids = update_centroids(data, clusters, centroids)\n",
    "        if centroids == new_centroids:\n",
    "            break\n",
    "        centroids = new_centroids\n",
    "    return clusters, centroids\n",
    "\n",
    "# Given data and centroids\n",
    "data = [[0.34, -0.2, 1.13, 4.3], [5.1, -12.6, -7.0, 1.9], [-15.7, 0.06, -7.1, 11.2]]\n",
    "centroids = {\"centroid1\": [1.1, 0.2, -3.1, -0.4], \"centroid2\": [9.3, 6.1, -4.7, 0.18]}\n",
    "\n",
    "# Perform K-means clustering\n",
    "clusters, final_centroids = k_means_clustering(data, centroids)\n",
    "\n",
    "# Print the resulting clusters and final centroids\n",
    "print(\"Clusters:\")\n",
    "for point, cluster_name in zip(data, clusters):\n",
    "    print(f\"Data point: {point}, Cluster: {cluster_name}\")\n",
    "\n",
    "print(\"\\nFinal Centroids:\")\n",
    "for centroid_name, centroid_location in final_centroids.items():\n",
    "    print(f\"Centroid name: {centroid_name}, Location: {centroid_location}\")"
   ]
  },
  {
   "cell_type": "code",
   "execution_count": null,
   "metadata": {},
   "outputs": [],
   "source": []
  }
 ],
 "metadata": {
  "kernelspec": {
   "display_name": "Python 3",
   "language": "python",
   "name": "python3"
  },
  "language_info": {
   "codemirror_mode": {
    "name": "ipython",
    "version": 3
   },
   "file_extension": ".py",
   "mimetype": "text/x-python",
   "name": "python",
   "nbconvert_exporter": "python",
   "pygments_lexer": "ipython3",
   "version": "3.7.6"
  }
 },
 "nbformat": 4,
 "nbformat_minor": 4
}
