{
 "cells": [
  {
   "cell_type": "code",
   "execution_count": 1,
   "metadata": {},
   "outputs": [],
   "source": [
    "import numpy as np"
   ]
  },
  {
   "cell_type": "code",
   "execution_count": 2,
   "metadata": {},
   "outputs": [],
   "source": [
    "def calculate_distance(point1, point2):\n",
    "    return np.linalg.norm(np.array(point1) - np.array(point2))"
   ]
  },
  {
   "cell_type": "code",
   "execution_count": 3,
   "metadata": {},
   "outputs": [],
   "source": [
    "def assign_to_centroid(data, centroids):\n",
    "    assignments = {}\n",
    "    for point in data:\n",
    "        min_distance = float('inf')\n",
    "        closest_centroid = None\n",
    "        for centroid_name, centroid_location in centroids.items():\n",
    "            distance = calculate_distance(point, centroid_location)\n",
    "            if distance < min_distance:\n",
    "                min_distance = distance\n",
    "                closest_centroid = centroid_name\n",
    "        if closest_centroid in assignments:\n",
    "            assignments[closest_centroid].append(point)\n",
    "        else:\n",
    "            assignments[closest_centroid] = [point]\n",
    "    return assignments"
   ]
  },
  {
   "cell_type": "code",
   "execution_count": 4,
   "metadata": {},
   "outputs": [],
   "source": [
    "def update_centroids(assignments):\n",
    "    new_centroids = {}\n",
    "    for centroid_name, points in assignments.items():\n",
    "        new_centroid = np.mean(points, axis=0)\n",
    "        new_centroids[centroid_name] = new_centroid.tolist()\n",
    "    return new_centroids\n"
   ]
  },
  {
   "cell_type": "code",
   "execution_count": 5,
   "metadata": {},
   "outputs": [],
   "source": [
    "def k_means(data, centroids, num_iterations):\n",
    "    for _ in range(num_iterations):\n",
    "        assignments = assign_to_centroid(data, centroids)\n",
    "        centroids = update_centroids(assignments)\n",
    "    return assignments, centroids"
   ]
  },
  {
   "cell_type": "code",
   "execution_count": 6,
   "metadata": {},
   "outputs": [],
   "source": [
    "# Given data and centroids\n",
    "data = [[0.34, -0.2, 1.13, 4.3], [5.1, -12.6, -7.0, 1.9], [-15.7, 0.06, -7.1, 11.2]]\n",
    "centroids = {\"centroid1\": [1.1, 0.2, -3.1, -0.4], \"centroid2\": [9.3, 6.1, -4.7, 0.18]}"
   ]
  },
  {
   "cell_type": "code",
   "execution_count": 7,
   "metadata": {},
   "outputs": [],
   "source": [
    "# Perform K-means clustering for 2 iterations\n",
    "num_iterations = 2\n",
    "final_assignments, final_centroids = k_means(data, centroids, num_iterations)"
   ]
  },
  {
   "cell_type": "code",
   "execution_count": 8,
   "metadata": {
    "scrolled": true
   },
   "outputs": [
    {
     "name": "stdout",
     "output_type": "stream",
     "text": [
      "Final Assignments:\n",
      "centroid1: [[0.34, -0.2, 1.13, 4.3], [5.1, -12.6, -7.0, 1.9], [-15.7, 0.06, -7.1, 11.2]]\n"
     ]
    }
   ],
   "source": [
    "# Print the final assignments and centroids\n",
    "print(\"Final Assignments:\")\n",
    "for centroid_name, assigned_points in final_assignments.items():\n",
    "    print(f\"{centroid_name}: {assigned_points}\")"
   ]
  },
  {
   "cell_type": "code",
   "execution_count": 9,
   "metadata": {},
   "outputs": [
    {
     "name": "stdout",
     "output_type": "stream",
     "text": [
      "\n",
      "Final Centroids:\n",
      "centroid1: [-3.42, -4.246666666666666, -4.323333333333333, 5.8]\n"
     ]
    }
   ],
   "source": [
    "print(\"\\nFinal Centroids:\")\n",
    "for centroid_name, centroid_location in final_centroids.items():\n",
    "    print(f\"{centroid_name}: {centroid_location}\")"
   ]
  },
  {
   "cell_type": "code",
   "execution_count": null,
   "metadata": {},
   "outputs": [],
   "source": []
  },
  {
   "cell_type": "code",
   "execution_count": null,
   "metadata": {},
   "outputs": [],
   "source": []
  }
 ],
 "metadata": {
  "kernelspec": {
   "display_name": "Python 3",
   "language": "python",
   "name": "python3"
  },
  "language_info": {
   "codemirror_mode": {
    "name": "ipython",
    "version": 3
   },
   "file_extension": ".py",
   "mimetype": "text/x-python",
   "name": "python",
   "nbconvert_exporter": "python",
   "pygments_lexer": "ipython3",
   "version": "3.7.6"
  }
 },
 "nbformat": 4,
 "nbformat_minor": 4
}
