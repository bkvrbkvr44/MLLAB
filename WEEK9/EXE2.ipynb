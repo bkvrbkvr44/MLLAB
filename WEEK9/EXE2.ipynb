{
 "cells": [
  {
   "cell_type": "code",
   "execution_count": 4,
   "metadata": {},
   "outputs": [],
   "source": [
    "import numpy as np\n",
    "import pandas as pd"
   ]
  },
  {
   "cell_type": "code",
   "execution_count": 5,
   "metadata": {},
   "outputs": [],
   "source": [
    "# Load the data set\n",
    "data = pd.read_csv('iris.csv')"
   ]
  },
  {
   "cell_type": "code",
   "execution_count": 6,
   "metadata": {},
   "outputs": [],
   "source": [
    "# Extract the attributes\n",
    "attributes = data.iloc[:, :4].values"
   ]
  },
  {
   "cell_type": "code",
   "execution_count": 7,
   "metadata": {},
   "outputs": [],
   "source": [
    "# Set the number of clusters\n",
    "k = 3\n",
    "\n",
    "# Set the maximum number of iterations\n",
    "max_iterations = 10\n",
    "\n",
    "# Randomly initialize cluster means as data points\n",
    "np.random.seed(42)\n",
    "initial_means = attributes[np.random.choice(len(attributes), size=k, replace=False)]\n",
    "\n",
    "# Initialize cluster assignments and cluster means\n",
    "cluster_assignments = np.zeros(len(attributes))\n",
    "cluster_means = np.zeros((k, attributes.shape[1]))"
   ]
  },
  {
   "cell_type": "code",
   "execution_count": 8,
   "metadata": {},
   "outputs": [],
   "source": [
    "# Iterate for the specified number of iterations\n",
    "for iteration in range(max_iterations):\n",
    "    # Assign points to the nearest cluster\n",
    "    for i, point in enumerate(attributes):\n",
    "        distances = np.linalg.norm(point - initial_means, axis=1)\n",
    "        cluster_assignments[i] = np.argmin(distances)\n",
    "\n",
    "    # Update cluster means\n",
    "    for cluster in range(k):\n",
    "        cluster_points = attributes[cluster_assignments == cluster]\n",
    "        cluster_means[cluster] = np.mean(cluster_points, axis=0)\n",
    "\n",
    "    # Update initial means\n",
    "    initial_means = cluster_means"
   ]
  },
  {
   "cell_type": "code",
   "execution_count": 9,
   "metadata": {
    "scrolled": true
   },
   "outputs": [
    {
     "name": "stdout",
     "output_type": "stream",
     "text": [
      "Final Cluster Means:\n",
      "Cluster 1: [5.9016129  2.7483871  4.39354839 1.43387097]\n",
      "Cluster 2: [5.006 3.418 1.464 0.244]\n",
      "Cluster 3: [6.85       3.07368421 5.74210526 2.07105263]\n"
     ]
    }
   ],
   "source": [
    "# Print the final cluster means\n",
    "print(\"Final Cluster Means:\")\n",
    "for cluster, mean in enumerate(cluster_means):\n",
    "    print(f\"Cluster {cluster+1}: {mean}\")"
   ]
  },
  {
   "cell_type": "code",
   "execution_count": 12,
   "metadata": {},
   "outputs": [
    {
     "name": "stdout",
     "output_type": "stream",
     "text": [
      "\n",
      "Jaccard Distance:\n",
      "Cluster 1: 1.0\n",
      "Cluster 2: 1.0\n",
      "Cluster 3: 1.0\n"
     ]
    }
   ],
   "source": [
    "# Compute Jaccard distance for each cluster\n",
    "print(\"\\nJaccard Distance:\")\n",
    "for cluster in range(3):\n",
    "    ground_truth_labels = data[data.columns[-1]].values\n",
    "    cluster_labels = ground_truth_labels[cluster_assignments == cluster]\n",
    "\n",
    "    true_positives = np.sum(cluster_labels == ('Iris ' + str(cluster+1)))\n",
    "    \n",
    "    false_positives = np.sum(cluster_labels != ('Iris ' + str(cluster+1)))\n",
    "    \n",
    "    false_negatives = np.sum(ground_truth_labels == ('Iris ' + str(cluster+1))) - true_positives\n",
    "    \n",
    "    \n",
    "\n",
    "    jaccard_distance = false_positives / (true_positives + false_positives + false_negatives)\n",
    "    print(f\"Cluster {cluster+1}: {jaccard_distance}\")\n"
   ]
  },
  {
   "cell_type": "code",
   "execution_count": null,
   "metadata": {},
   "outputs": [],
   "source": []
  },
  {
   "cell_type": "code",
   "execution_count": null,
   "metadata": {},
   "outputs": [],
   "source": []
  }
 ],
 "metadata": {
  "kernelspec": {
   "display_name": "Python 3",
   "language": "python",
   "name": "python3"
  },
  "language_info": {
   "codemirror_mode": {
    "name": "ipython",
    "version": 3
   },
   "file_extension": ".py",
   "mimetype": "text/x-python",
   "name": "python",
   "nbconvert_exporter": "python",
   "pygments_lexer": "ipython3",
   "version": "3.7.6"
  }
 },
 "nbformat": 4,
 "nbformat_minor": 4
}
