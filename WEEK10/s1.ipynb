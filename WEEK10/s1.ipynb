{
 "cells": [
  {
   "cell_type": "code",
   "execution_count": 1,
   "metadata": {},
   "outputs": [
    {
     "name": "stdout",
     "output_type": "stream",
     "text": [
      "The new chip ring did not pass quality control.\n"
     ]
    }
   ],
   "source": [
    "import numpy as np\n",
    "from sklearn.discriminant_analysis import LinearDiscriminantAnalysis\n",
    "# Curvature and diameter data\n",
    "curvature = [2.95, 2.53, 3.57, 3.16, 2.58, 2.16, 3.27]\n",
    "diameter = [6.63, 7.79, 5.65, 5.47, 4.46, 6.22, 3.52]\n",
    "quality = [\"Passed\", \"Passed\", \"Passed\", \"Passed\", \"Not Passed\", \"Not Passed\", \"Not Passed\"]\n",
    "\n",
    "# Combine curvature and diameter into a feature matrix\n",
    "X = np.array([curvature, diameter]).T\n",
    "\n",
    "# Convert the quality labels into numerical values\n",
    "y = np.array([1 if q == \"Passed\" else 0 for q in quality])\n",
    "lda = LinearDiscriminantAnalysis()\n",
    "lda.fit(X, y)\n",
    "new_chip_ring = np.array([[2.81, 5.46]])\n",
    "prediction = lda.predict(new_chip_ring)\n",
    "\n",
    "if prediction == 1:\n",
    "    print(\"The new chip ring passed quality control.\")\n",
    "else:\n",
    "    print(\"The new chip ring did not pass quality control.\")\n"
   ]
  },
  {
   "cell_type": "code",
   "execution_count": null,
   "metadata": {},
   "outputs": [],
   "source": []
  }
 ],
 "metadata": {
  "kernelspec": {
   "display_name": "Python 3",
   "language": "python",
   "name": "python3"
  },
  "language_info": {
   "codemirror_mode": {
    "name": "ipython",
    "version": 3
   },
   "file_extension": ".py",
   "mimetype": "text/x-python",
   "name": "python",
   "nbconvert_exporter": "python",
   "pygments_lexer": "ipython3",
   "version": "3.7.6"
  }
 },
 "nbformat": 4,
 "nbformat_minor": 4
}
