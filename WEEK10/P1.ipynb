{
 "cells": [
  {
   "cell_type": "code",
   "execution_count": 2,
   "metadata": {},
   "outputs": [
    {
     "name": "stdout",
     "output_type": "stream",
     "text": [
      "Estimated Θ_A: 5.0665\n",
      "Estimated Θ_B: 0.0540\n"
     ]
    }
   ],
   "source": [
    "import numpy as np\n",
    "from sklearn.mixture import GaussianMixture\n",
    "\n",
    "# Generate some example data (you should replace this with your actual data)\n",
    "np.random.seed(0)\n",
    "data = np.concatenate([np.random.normal(0, 1, 100), np.random.normal(5, 1, 100)])\n",
    "\n",
    "# Reshape the data into a column vector\n",
    "data = data.reshape(-1, 1)\n",
    "\n",
    "# Create a Gaussian Mixture Model with 2 components (2 coins)\n",
    "gmm = GaussianMixture(n_components=2, random_state=0)\n",
    "\n",
    "# Fit the GMM to the data\n",
    "gmm.fit(data)\n",
    "\n",
    "# Get the estimated parameters for each component\n",
    "theta_a, theta_b = gmm.means_\n",
    "\n",
    "print(f\"Estimated Θ_A: {theta_a[0]:.4f}\")\n",
    "print(f\"Estimated Θ_B: {theta_b[0]:.4f}\")"
   ]
  },
  {
   "cell_type": "code",
   "execution_count": null,
   "metadata": {},
   "outputs": [],
   "source": []
  }
 ],
 "metadata": {
  "kernelspec": {
   "display_name": "Python 3",
   "language": "python",
   "name": "python3"
  },
  "language_info": {
   "codemirror_mode": {
    "name": "ipython",
    "version": 3
   },
   "file_extension": ".py",
   "mimetype": "text/x-python",
   "name": "python",
   "nbconvert_exporter": "python",
   "pygments_lexer": "ipython3",
   "version": "3.7.6"
  }
 },
 "nbformat": 4,
 "nbformat_minor": 4
}
