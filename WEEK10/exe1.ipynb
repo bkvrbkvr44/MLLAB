{
 "cells": [
  {
   "cell_type": "code",
   "execution_count": 1,
   "metadata": {},
   "outputs": [
    {
     "name": "stdout",
     "output_type": "stream",
     "text": [
      "#0:\t0.60 0.50\n",
      "#1:\t0.71 0.58\n",
      "#2:\t0.75 0.57\n",
      "#3:\t0.77 0.55\n",
      "#4:\t0.78 0.53\n",
      "#5:\t0.79 0.53\n"
     ]
    }
   ],
   "source": [
    "import numpy as np\n",
    "\n",
    "def coin_em(rolls, theta_A=None, theta_B=None, maxiter=10):\n",
    "    # Initial Guess\n",
    "    theta_A = theta_A or random.random()\n",
    "    theta_B = theta_B or random.random()\n",
    "    thetas = [(theta_A, theta_B)]\n",
    "    # Iterate\n",
    "    for c in range(maxiter):\n",
    "        print(\"#%d:\\t%0.2f %0.2f\" % (c, theta_A, theta_B))\n",
    "        heads_A, tails_A, heads_B, tails_B = e_step(rolls, theta_A, theta_B)\n",
    "        theta_A, theta_B = m_step(heads_A, tails_A, heads_B, tails_B)\n",
    "        \n",
    "    thetas.append((theta_A,theta_B))    \n",
    "    return thetas, (theta_A,theta_B)\n",
    "\n",
    "def e_step(rolls, theta_A, theta_B):\n",
    "    \"\"\"Produce the expected value for heads_A, tails_A, heads_B, tails_B \n",
    "    over the rolls given the coin biases\"\"\"\n",
    "    \n",
    "    heads_A, tails_A = 0,0\n",
    "    heads_B, tails_B = 0,0\n",
    "    for trial in rolls:\n",
    "        likelihood_A = coin_likelihood(trial, theta_A)\n",
    "        likelihood_B = coin_likelihood(trial, theta_B)\n",
    "        p_A = likelihood_A / (likelihood_A + likelihood_B)\n",
    "        p_B = likelihood_B / (likelihood_A + likelihood_B)\n",
    "        heads_A += p_A * trial.count(\"H\")\n",
    "        tails_A += p_A * trial.count(\"T\")\n",
    "        heads_B += p_B * trial.count(\"H\")\n",
    "        tails_B += p_B * trial.count(\"T\") \n",
    "    return heads_A, tails_A, heads_B, tails_B\n",
    "\n",
    "def m_step(heads_A, tails_A, heads_B, tails_B):\n",
    "    \"\"\"Produce the values for theta that maximize the expected number of heads/tails\"\"\"\n",
    "\n",
    "    # Replace dummy values with your implementation\n",
    "    theta_A = heads_A / (heads_A + tails_A)\n",
    "    theta_B = heads_B / (heads_B + tails_B)\n",
    "    return theta_A, theta_B\n",
    "\n",
    "def coin_likelihood(roll, bias):\n",
    "    # P(X | Z, theta)\n",
    "    numHeads = roll.count(\"H\")\n",
    "    flips = len(roll)\n",
    "    return pow(bias, numHeads) * pow(1-bias, flips-numHeads)\n",
    "\n",
    "rolls = [ \"HTTTHHTHTH\", \"HHHHTHHHHH\", \"HTHHHHHTHH\", \n",
    "          \"HTHTTTHHTT\", \"THHHTHHHTH\" ]\n",
    "thetas, _ = coin_em(rolls, 0.6, 0.5, maxiter=6)"
   ]
  },
  {
   "cell_type": "code",
   "execution_count": null,
   "metadata": {},
   "outputs": [],
   "source": []
  }
 ],
 "metadata": {
  "kernelspec": {
   "display_name": "Python 3",
   "language": "python",
   "name": "python3"
  },
  "language_info": {
   "codemirror_mode": {
    "name": "ipython",
    "version": 3
   },
   "file_extension": ".py",
   "mimetype": "text/x-python",
   "name": "python",
   "nbconvert_exporter": "python",
   "pygments_lexer": "ipython3",
   "version": "3.7.6"
  }
 },
 "nbformat": 4,
 "nbformat_minor": 4
}
