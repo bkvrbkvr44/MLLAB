{
 "cells": [
  {
   "cell_type": "code",
   "execution_count": 6,
   "metadata": {},
   "outputs": [
    {
     "name": "stdout",
     "output_type": "stream",
     "text": [
      "a0: 55.9719, a1: 2.6158, a2: 0.5368\n",
      "Predicted flow for D=2.5 and S=0.025: 84.9113\n"
     ]
    }
   ],
   "source": [
    "import numpy as np\n",
    "from sklearn.linear_model import LinearRegression\n",
    "\n",
    "# Given data\n",
    "D = np.array([1, 2, 3, 1, 2, 3, 1, 2, 3]).reshape(-1, 1)  # Reshape for sklearn\n",
    "S = np.array([0.001, 0.001, 0.001, 0.01, 0.01, 0.01, 0.05, 0.05, 0.05]).reshape(-1, 1)\n",
    "Q = np.array([1.4, 8.3, 24.2, 4.7, 28.9, 84.0, 11.1, 69.0, 200.0])\n",
    "\n",
    "# Perform multiple linear regression\n",
    "X = np.column_stack((np.ones_like(D), np.log(D), np.log(S)))\n",
    "model = LinearRegression().fit(X, np.log(Q))  # Apply log transformation\n",
    "\n",
    "# Get the coefficients a0, a1, a2\n",
    "a0 = np.exp(model.intercept_)\n",
    "a1 = model.coef_[1]\n",
    "a2 = model.coef_[2]\n",
    "\n",
    "# Predict flow for a pipe with D=2.5 and S=0.025\n",
    "D_pred = 2.5\n",
    "S_pred = 0.025\n",
    "predicted_flow = a0 * (D_pred**a1) * (S_pred**a2)\n",
    "\n",
    "# Output results\n",
    "print(f\"a0: {a0:.4f}, a1: {a1:.4f}, a2: {a2:.4f}\")\n",
    "print(f\"Predicted flow for D=2.5 and S=0.025: {predicted_flow:.4f}\")\n"
   ]
  },
  {
   "cell_type": "code",
   "execution_count": null,
   "metadata": {},
   "outputs": [],
   "source": []
  }
 ],
 "metadata": {
  "kernelspec": {
   "display_name": "Python 3",
   "language": "python",
   "name": "python3"
  },
  "language_info": {
   "codemirror_mode": {
    "name": "ipython",
    "version": 3
   },
   "file_extension": ".py",
   "mimetype": "text/x-python",
   "name": "python",
   "nbconvert_exporter": "python",
   "pygments_lexer": "ipython3",
   "version": "3.7.6"
  }
 },
 "nbformat": 4,
 "nbformat_minor": 4
}
