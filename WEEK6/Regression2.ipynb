{
 "cells": [
  {
   "cell_type": "code",
   "execution_count": 38,
   "metadata": {},
   "outputs": [
    {
     "name": "stdout",
     "output_type": "stream",
     "text": [
      "100 100\n",
      "w0 (Intercept): -0.5081686520160495\n",
      "w1 (Slope): 0.02021991562395429\n",
      "R-squared (R2) Score: 0.21980977632059928\n"
     ]
    }
   ],
   "source": [
    "import numpy as np\n",
    "from sklearn.linear_model import LinearRegression\n",
    "import matplotlib.pyplot as plt\n",
    "from sklearn.metrics import r2_score\n",
    "\n",
    "# Data\n",
    "age = np.array([25,25,25,25,25,25,25,25,25,\n",
    "                32,32,32,32,32,32,32,32,32,32,32,32,32,32,32,\n",
    "                37,37,37,37,37,37,37,37,37,37,37,37,\n",
    "                42,42,42,42,42,42,42,42,42,42,42,42,42,42,42,\n",
    "                47,47,47,47,47,47,47,47,47,47,47,47,47,47,\n",
    "                52,52,52,52,52,52,52,52,\n",
    "                57,57,57,57,57,57,57,57,57,57,57,57,57,57,57,57,57,\n",
    "                62,62,62,62,62,62,62,62,62,62])\n",
    "chd = np.array([0,0,0,0,1,0,0,0,0,0,0,0,0,0,0,1,0,0,0,0,0,0,1,0,0,0,0,0,1,0,0,1,0,0,0,0,1,0,1,0,0,0,0,0,1,0,0,1,0,0,1,1,0,1,0,1,0,0,0,1,0,1,0,1,0,0,1,0,0,1,0,1,1,0,0,1,0,1,0,1,1,1,0,0,1,0,1,1,1,1,1,0,1,1,1,1,1,1,1,1])\n",
    "\n",
    "print(len(age),len(chd))\n",
    "# Reshape age for sklearn\n",
    "age = age.reshape(-1, 1)\n",
    "\n",
    "# Create and fit the model\n",
    "model = LinearRegression()\n",
    "model.fit(age, chd)\n",
    "\n",
    "# Get the parameters\n",
    "w0 = model.intercept_\n",
    "w1 = model.coef_[0]\n",
    "R2 = r2_score(chd, model.predict(age))\n",
    "\n",
    "print(f\"w0 (Intercept): {w0}\")\n",
    "print(f\"w1 (Slope): {w1}\")\n",
    "print(f\"R-squared (R2) Score: {R2}\")"
   ]
  },
  {
   "cell_type": "code",
   "execution_count": 33,
   "metadata": {},
   "outputs": [
    {
     "data": {
      "image/png": "[encoded data removed]",
      "text/plain": [
       "<Figure size 432x288 with 1 Axes>"
      ]
     },
     "metadata": {
      "needs_background": "light"
     },
     "output_type": "display_data"
    }
   ],
   "source": [
    "# Predicted values\n",
    "predicted_chd = model.predict(age)\n",
    "\n",
    "# Scatter plot\n",
    "plt.scatter(age, chd, label='Original Data')\n",
    "plt.plot(age, predicted_chd, color='black', label='Linear Model')\n",
    "plt.xlabel('Age')\n",
    "plt.ylabel('Coronary Heart Disease (CHD)')\n",
    "plt.legend(bbox_to_anchor=(0.75, 1.15), ncol=2)\n",
    "plt.show()\n"
   ]
  },
  {
   "cell_type": "code",
   "execution_count": 34,
   "metadata": {},
   "outputs": [
    {
     "name": "stdout",
     "output_type": "stream",
     "text": [
      "The model predicts a probability of 0.3208 for someone who is 41 years old.\n"
     ]
    }
   ],
   "source": [
    "age_41 = np.array([[41]])  # Reshape for sklearn\n",
    "predicted_prob_41 = model.predict(age_41)\n",
    "\n",
    "print(f\"The model predicts a probability of {predicted_prob_41[0]:.4f} for someone who is 41 years old.\")\n"
   ]
  },
  {
   "cell_type": "code",
   "execution_count": null,
   "metadata": {},
   "outputs": [],
   "source": []
  }
 ],
 "metadata": {
  "kernelspec": {
   "display_name": "Python 3",
   "language": "python",
   "name": "python3"
  },
  "language_info": {
   "codemirror_mode": {
    "name": "ipython",
    "version": 3
   },
   "file_extension": ".py",
   "mimetype": "text/x-python",
   "name": "python",
   "nbconvert_exporter": "python",
   "pygments_lexer": "ipython3",
   "version": "3.7.6"
  }
 },
 "nbformat": 4,
 "nbformat_minor": 4
}
