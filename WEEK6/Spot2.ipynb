{
 "cells": [
  {
   "cell_type": "code",
   "execution_count": 2,
   "metadata": {},
   "outputs": [
    {
     "name": "stdout",
     "output_type": "stream",
     "text": [
      "Predicted Output:\n",
      "[0.01485793]        [0]\n",
      "[0.98571133]        [1]\n",
      "[0.98677078]        [1]\n",
      "[0.01421006]        [0]\n"
     ]
    }
   ],
   "source": [
    "import numpy as np\n",
    "\n",
    "# Define activation functions and their derivatives\n",
    "def sigmoid(x):\n",
    "    return 1 / (1 + np.exp(-x))\n",
    "\n",
    "def sigmoid_derivative(x):\n",
    "    return x * (1 - x)\n",
    "\n",
    "# Define the neural network class\n",
    "class NeuralNetwork:\n",
    "    def __init__(self, input_size, hidden_size, output_size):\n",
    "        self.input_size = input_size\n",
    "        self.hidden_size = hidden_size\n",
    "        self.output_size = output_size\n",
    "        \n",
    "        # Initialize weights randomly\n",
    "        self.weights_input_hidden = np.random.randn(self.input_size, self.hidden_size)\n",
    "        self.weights_hidden_output = np.random.randn(self.hidden_size, self.output_size)\n",
    "        \n",
    "    def feedforward(self, X):\n",
    "        self.hidden_input = np.dot(X, self.weights_input_hidden)\n",
    "        self.hidden_output = sigmoid(self.hidden_input)\n",
    "        self.final_input = np.dot(self.hidden_output, self.weights_hidden_output)\n",
    "        self.final_output = sigmoid(self.final_input)\n",
    "        return self.final_output\n",
    "    \n",
    "    def backward(self, X, y, output):\n",
    "        self.error = y - output\n",
    "        self.d_output = self.error * sigmoid_derivative(output)\n",
    "        self.error_hidden = np.dot(self.d_output, self.weights_hidden_output.T)\n",
    "        self.d_hidden = self.error_hidden * sigmoid_derivative(self.hidden_output)\n",
    "        \n",
    "        # Update weights\n",
    "        self.weights_hidden_output += np.dot(self.hidden_output.T, self.d_output)\n",
    "        self.weights_input_hidden += np.dot(X.T, self.d_hidden)\n",
    "        \n",
    "    def train(self, X, y, epochs):\n",
    "        for _ in range(epochs):\n",
    "            output = self.feedforward(X)\n",
    "            self.backward(X, y, output)\n",
    "\n",
    "# Create a simple dataset for binary classification\n",
    "X = np.array([[0, 0], [0, 1], [1, 0], [1, 1]])\n",
    "y = np.array([[0], [1], [1], [0]])\n",
    "\n",
    "# Create and train the neural network\n",
    "input_size = 2\n",
    "hidden_size = 4\n",
    "output_size = 1\n",
    "epochs = 10000\n",
    "\n",
    "nn = NeuralNetwork(input_size, hidden_size, output_size)\n",
    "nn.train(X, y, epochs)\n",
    "\n",
    "# Test the trained model\n",
    "X_test = np.array([[0, 0], [0, 1], [1, 0], [1, 1]])\n",
    "predicted_output = nn.feedforward(X_test)\n",
    "print(\"Predicted Output:\")\n",
    "\n",
    "for i in range(len(y)):\n",
    "    print(f\"{predicted_output[i]}        {y[i]}\")\n"
   ]
  },
  {
   "cell_type": "code",
   "execution_count": null,
   "metadata": {},
   "outputs": [],
   "source": []
  }
 ],
 "metadata": {
  "kernelspec": {
   "display_name": "Python 3",
   "language": "python",
   "name": "python3"
  },
  "language_info": {
   "codemirror_mode": {
    "name": "ipython",
    "version": 3
   },
   "file_extension": ".py",
   "mimetype": "text/x-python",
   "name": "python",
   "nbconvert_exporter": "python",
   "pygments_lexer": "ipython3",
   "version": "3.7.6"
  }
 },
 "nbformat": 4,
 "nbformat_minor": 4
}
