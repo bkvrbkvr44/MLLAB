{
 "cells": [
  {
   "cell_type": "code",
   "execution_count": 1,
   "metadata": {},
   "outputs": [
    {
     "name": "stdout",
     "output_type": "stream",
     "text": [
      "Coefficients: [-10.80154674   1.47173683  13.82944975]\n",
      "Intercept: -145.68706569825923\n"
     ]
    }
   ],
   "source": [
    "from sklearn.linear_model import LinearRegression\n",
    "\n",
    "# Given data\n",
    "X = [\n",
    "    [14.620, 226.000, 7.000],\n",
    "    [15.630, 220.000, 3.375],\n",
    "    [14.620, 217.400, 6.375],\n",
    "    [15.000, 220.000, 6.000],\n",
    "    [14.500, 226.500, 7.625],\n",
    "    [15.250, 224.100, 6.000],\n",
    "    [16.120, 220.500, 3.375],\n",
    "    [15.130, 223.500, 6.125],\n",
    "    [15.500, 217.600, 5.000],\n",
    "    [15.130, 228.500, 6.625],\n",
    "    [15.500, 230.200, 5.750],\n",
    "    [16.120, 226.500, 3.750],\n",
    "    [15.130, 226.600, 6.125],\n",
    "    [15.630, 225.600, 5.375],\n",
    "    [14.620, 223.700, 7.375],\n",
    "    [15.500, 230.000, 4.000],\n",
    "    [14.250, 224.300, 8.000],\n",
    "    [14.500, 240.500, 10.870],\n",
    "    [14.620, 217.400, 6.375],\n",
    "    [15.380, 229.700, 5.875]\n",
    "]\n",
    "\n",
    "y = [128.400, 97.520, 52.620, 98.010, 139.900, 102.600, 48.140, 109.600, 82.680, 112.600, 97.520, 59.060, 111.800, 89.090, 133.400, 66.800, 157.100, 208.400, 113.900, 101.000]\n",
    "\n",
    "# Create and fit the model\n",
    "model = LinearRegression()\n",
    "model.fit(X, y)\n",
    "\n",
    "# Get the coefficients\n",
    "coefficients = model.coef_\n",
    "intercept = model.intercept_\n",
    "\n",
    "print(f\"Coefficients: {coefficients}\")\n",
    "print(f\"Intercept: {intercept}\")\n"
   ]
  },
  {
   "cell_type": "code",
   "execution_count": 2,
   "metadata": {},
   "outputs": [
    {
     "name": "stdout",
     "output_type": "stream",
     "text": [
      "Predicted HFE: 90.6198585843307\n"
     ]
    }
   ],
   "source": [
    "# Define the values for prediction\n",
    "x1 = 14.5\n",
    "x2 = 220\n",
    "x3 = 5.0\n",
    "\n",
    "# Make the prediction\n",
    "predicted_hfe = model.predict([[x1, x2, x3]])\n",
    "print(f\"Predicted HFE: {predicted_hfe[0]}\")\n"
   ]
  },
  {
   "cell_type": "code",
   "execution_count": null,
   "metadata": {},
   "outputs": [],
   "source": []
  }
 ],
 "metadata": {
  "kernelspec": {
   "display_name": "Python 3",
   "language": "python",
   "name": "python3"
  },
  "language_info": {
   "codemirror_mode": {
    "name": "ipython",
    "version": 3
   },
   "file_extension": ".py",
   "mimetype": "text/x-python",
   "name": "python",
   "nbconvert_exporter": "python",
   "pygments_lexer": "ipython3",
   "version": "3.7.6"
  }
 },
 "nbformat": 4,
 "nbformat_minor": 4
}
