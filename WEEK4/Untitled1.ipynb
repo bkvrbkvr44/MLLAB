{
 "cells": [
  {
   "cell_type": "code",
   "execution_count": 3,
   "metadata": {},
   "outputs": [
    {
     "name": "stdout",
     "output_type": "stream",
     "text": [
      "Enter logic gate (AND, OR, NOR, XOR): AND\n",
      "Enter the number of test cases: 1\n",
      "Enter binary inputs (e.g., 0 1): 1 0\n",
      "Testing AND Logic Gate:\n",
      "Inputs: [1, 0], Output: 0\n"
     ]
    }
   ],
   "source": [
    "import numpy as np\n",
    "\n",
    "# Perceptron class\n",
    "class Perceptron:\n",
    "    def __init__(self, num_inputs, learning_rate=0.1, epochs=100):\n",
    "        self.weights = np.random.rand(num_inputs + 1)  # +1 for bias\n",
    "        self.learning_rate = learning_rate\n",
    "        self.epochs = epochs\n",
    "\n",
    "    def activation(self, x):\n",
    "        return 1 if x >= 0 else 0\n",
    "\n",
    "    def predict(self, inputs):\n",
    "        summation = np.dot(inputs, self.weights[1:]) + self.weights[0]  # Adding bias\n",
    "        return self.activation(summation)\n",
    "\n",
    "    def train(self, training_data, labels):\n",
    "        for _ in range(self.epochs):\n",
    "            for inputs, label in zip(training_data, labels):\n",
    "                prediction = self.predict(inputs)\n",
    "                error = label - prediction\n",
    "                self.weights[1:] += self.learning_rate * error * inputs\n",
    "                self.weights[0] += self.learning_rate * error\n",
    "\n",
    "# Take user input for logic gate type\n",
    "logic_gate = input(\"Enter logic gate (AND, OR, NOR, XOR): \").upper()\n",
    "\n",
    "# Define training data and labels based on the selected logic gate\n",
    "if logic_gate in [\"AND\", \"OR\", \"NOR\"]:\n",
    "    training_data = np.array([[0, 0], [0, 1], [1, 0], [1, 1]])\n",
    "else:  # XOR\n",
    "    training_data = np.array([[0, 0], [0, 1], [1, 0], [1, 1]])\n",
    "\n",
    "if logic_gate == \"AND\":\n",
    "    labels = np.array([0, 0, 0, 1])\n",
    "elif logic_gate == \"OR\":\n",
    "    labels = np.array([0, 1, 1, 1])\n",
    "elif logic_gate == \"NOR\":\n",
    "    labels = np.array([1, 0, 0, 0])\n",
    "else:  # XOR\n",
    "    labels = np.array([0, 1, 1, 0])\n",
    "\n",
    "# Create and train perceptron\n",
    "perceptron = Perceptron(num_inputs=2)\n",
    "perceptron.train(training_data, labels)\n",
    "\n",
    "# Take user input for test cases\n",
    "num_test_cases = int(input(\"Enter the number of test cases: \"))\n",
    "test_inputs = []\n",
    "for _ in range(num_test_cases):\n",
    "    test_input = [int(x) for x in input(\"Enter binary inputs (e.g., 0 1): \").split()]\n",
    "    test_inputs.append(test_input)\n",
    "\n",
    "# Test the trained perceptron\n",
    "print(f\"Testing {logic_gate} Logic Gate:\")\n",
    "for inputs in test_inputs:\n",
    "    output = perceptron.predict(inputs)\n",
    "    print(f\"Inputs: {inputs}, Output: {output}\")"
   ]
  },
  {
   "cell_type": "code",
   "execution_count": 4,
   "metadata": {},
   "outputs": [
    {
     "name": "stdout",
     "output_type": "stream",
     "text": [
      "Equation of the separating line: 0.179 * X1 + 0.105 * X2 + -0.251 = 0\n"
     ]
    }
   ],
   "source": [
    "perceptron = Perceptron(num_inputs=2)\n",
    "perceptron.train(training_data, labels)\n",
    "final_weights = perceptron.weights\n",
    "w1, w2, bias = final_weights[1], final_weights[2], final_weights[0]\n",
    "equation = f\"Equation of the separating line: {w1:.3f} * X1 + {w2:.3f} * X2 + {bias:.3f} = 0\"\n",
    "print(equation)"
   ]
  },
  {
   "cell_type": "code",
   "execution_count": null,
   "metadata": {},
   "outputs": [],
   "source": []
  }
 ],
 "metadata": {
  "kernelspec": {
   "display_name": "Python 3",
   "language": "python",
   "name": "python3"
  },
  "language_info": {
   "codemirror_mode": {
    "name": "ipython",
    "version": 3
   },
   "file_extension": ".py",
   "mimetype": "text/x-python",
   "name": "python",
   "nbconvert_exporter": "python",
   "pygments_lexer": "ipython3",
   "version": "3.7.6"
  }
 },
 "nbformat": 4,
 "nbformat_minor": 4
}
