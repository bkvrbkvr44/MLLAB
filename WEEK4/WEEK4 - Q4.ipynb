{
 "cells": [
  {
   "cell_type": "code",
   "execution_count": 1,
   "metadata": {},
   "outputs": [],
   "source": [
    "import numpy as np"
   ]
  },
  {
   "cell_type": "code",
   "execution_count": 2,
   "metadata": {},
   "outputs": [],
   "source": [
    "def threshold(x):\n",
    "    if(x >= 0):\n",
    "        return 1\n",
    "    else:\n",
    "        return 0"
   ]
  },
  {
   "cell_type": "code",
   "execution_count": 3,
   "metadata": {},
   "outputs": [],
   "source": [
    "training_data = [\n",
    "    [0, 0],\n",
    "    [0, 1],\n",
    "    [1, 0],\n",
    "    [1, 1]\n",
    "]"
   ]
  },
  {
   "cell_type": "code",
   "execution_count": 4,
   "metadata": {},
   "outputs": [],
   "source": [
    "labels = [0, 1, 1, 1] "
   ]
  },
  {
   "cell_type": "code",
   "execution_count": 5,
   "metadata": {},
   "outputs": [],
   "source": [
    "weights = np.array([-0.2, 0.2, 0.3])\n",
    "learning_rate = 0.1"
   ]
  },
  {
   "cell_type": "code",
   "execution_count": 7,
   "metadata": {},
   "outputs": [
    {
     "name": "stdout",
     "output_type": "stream",
     "text": [
      "Epoch 1\n",
      "  Inputs: [0 0], Target: 0, Output: 0, Weights: [-0.2  0.2  0.3]\n",
      "  Inputs: [0 1], Target: 1, Output: 1, Weights: [-0.2  0.2  0.3]\n",
      "  Inputs: [1 0], Target: 1, Output: 1, Weights: [-0.2  0.2  0.3]\n",
      "  Inputs: [1 1], Target: 1, Output: 1, Weights: [-0.2  0.2  0.3]\n",
      "Epoch 2\n",
      "  Inputs: [0 0], Target: 0, Output: 0, Weights: [-0.2  0.2  0.3]\n",
      "  Inputs: [0 1], Target: 1, Output: 1, Weights: [-0.2  0.2  0.3]\n",
      "  Inputs: [1 0], Target: 1, Output: 1, Weights: [-0.2  0.2  0.3]\n",
      "  Inputs: [1 1], Target: 1, Output: 1, Weights: [-0.2  0.2  0.3]\n",
      "Epoch 3\n",
      "  Inputs: [0 0], Target: 0, Output: 0, Weights: [-0.2  0.2  0.3]\n",
      "  Inputs: [0 1], Target: 1, Output: 1, Weights: [-0.2  0.2  0.3]\n",
      "  Inputs: [1 0], Target: 1, Output: 1, Weights: [-0.2  0.2  0.3]\n",
      "  Inputs: [1 1], Target: 1, Output: 1, Weights: [-0.2  0.2  0.3]\n"
     ]
    }
   ],
   "source": [
    "for epoch in range(3):\n",
    "    print(f\"Epoch {epoch + 1}\")\n",
    "    for i in range(len(training_data)):\n",
    "        inputs = np.array([1] + training_data[i])\n",
    "        target = labels[i]\n",
    "\n",
    "        weighted_sum = np.dot(weights, inputs)\n",
    "\n",
    "        output = threshold(weighted_sum)\n",
    "\n",
    "        error = target - output\n",
    "        weights += learning_rate * error * inputs\n",
    "\n",
    "        print(f\"  Inputs: {inputs[1:]}, Target: {target}, Output: {output}, Weights: {weights}\")"
   ]
  },
  {
   "cell_type": "code",
   "execution_count": null,
   "metadata": {},
   "outputs": [],
   "source": []
  }
 ],
 "metadata": {
  "kernelspec": {
   "display_name": "Python 3",
   "language": "python",
   "name": "python3"
  },
  "language_info": {
   "codemirror_mode": {
    "name": "ipython",
    "version": 3
   },
   "file_extension": ".py",
   "mimetype": "text/x-python",
   "name": "python",
   "nbconvert_exporter": "python",
   "pygments_lexer": "ipython3",
   "version": "3.7.6"
  }
 },
 "nbformat": 4,
 "nbformat_minor": 4
}
