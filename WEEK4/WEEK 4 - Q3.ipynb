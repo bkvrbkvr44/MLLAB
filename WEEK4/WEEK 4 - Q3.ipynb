{
 "cells": [
  {
   "cell_type": "code",
   "execution_count": 1,
   "metadata": {},
   "outputs": [],
   "source": [
    "import numpy as np"
   ]
  },
  {
   "cell_type": "code",
   "execution_count": 2,
   "metadata": {},
   "outputs": [],
   "source": [
    "def threshold(x):\n",
    "    if(x >= 0):\n",
    "        return 1\n",
    "    else:\n",
    "        return 0"
   ]
  },
  {
   "cell_type": "code",
   "execution_count": 3,
   "metadata": {},
   "outputs": [],
   "source": [
    "bias_weight = -1.5\n",
    "input_weights = np.array([1, 1])\n"
   ]
  },
  {
   "cell_type": "code",
   "execution_count": 4,
   "metadata": {},
   "outputs": [],
   "source": [
    "inputs = [(0, 1), (1, 1), (1, 0)]"
   ]
  },
  {
   "cell_type": "code",
   "execution_count": 5,
   "metadata": {},
   "outputs": [
    {
     "name": "stdout",
     "output_type": "stream",
     "text": [
      "Input: (0, 1), Weighted Sum: -0.5, Output: 0\n",
      "Input: (1, 1), Weighted Sum: 0.5, Output: 1\n",
      "Input: (1, 0), Weighted Sum: -0.5, Output: 0\n"
     ]
    }
   ],
   "source": [
    "for input_pair in inputs:\n",
    "    weighted_sum = np.dot(input_weights, input_pair) + bias_weight\n",
    "    output = threshold(weighted_sum)\n",
    "    print(f\"Input: {input_pair}, Weighted Sum: {weighted_sum}, Output: {output}\")"
   ]
  },
  {
   "cell_type": "code",
   "execution_count": 6,
   "metadata": {},
   "outputs": [],
   "source": [
    "bias_weight = -0.5"
   ]
  },
  {
   "cell_type": "code",
   "execution_count": 7,
   "metadata": {},
   "outputs": [
    {
     "name": "stdout",
     "output_type": "stream",
     "text": [
      "Input: (0, 1), Weighted Sum: 0.5, Output: 1\n",
      "Input: (1, 1), Weighted Sum: 1.5, Output: 1\n",
      "Input: (1, 0), Weighted Sum: 0.5, Output: 1\n"
     ]
    }
   ],
   "source": [
    "for input_pair in inputs:\n",
    "    weighted_sum = np.dot(input_weights, input_pair) + bias_weight\n",
    "    output = threshold(weighted_sum)\n",
    "    print(f\"Input: {input_pair}, Weighted Sum: {weighted_sum}, Output: {output}\")"
   ]
  },
  {
   "cell_type": "code",
   "execution_count": null,
   "metadata": {},
   "outputs": [],
   "source": []
  }
 ],
 "metadata": {
  "kernelspec": {
   "display_name": "Python 3",
   "language": "python",
   "name": "python3"
  },
  "language_info": {
   "codemirror_mode": {
    "name": "ipython",
    "version": 3
   },
   "file_extension": ".py",
   "mimetype": "text/x-python",
   "name": "python",
   "nbconvert_exporter": "python",
   "pygments_lexer": "ipython3",
   "version": "3.7.6"
  }
 },
 "nbformat": 4,
 "nbformat_minor": 4
}
