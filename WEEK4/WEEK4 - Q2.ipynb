{
 "cells": [
  {
   "cell_type": "code",
   "execution_count": 1,
   "metadata": {},
   "outputs": [],
   "source": [
    "import numpy as np"
   ]
  },
  {
   "cell_type": "code",
   "execution_count": 7,
   "metadata": {},
   "outputs": [],
   "source": [
    "def threshold(x):\n",
    "    if(x >= 0):\n",
    "        return 1\n",
    "    else:\n",
    "        return -1"
   ]
  },
  {
   "cell_type": "code",
   "execution_count": 8,
   "metadata": {},
   "outputs": [],
   "source": [
    "weights = np.array([0.75, 0.5, -0.6])\n",
    "learning_rate = 0.2"
   ]
  },
  {
   "cell_type": "code",
   "execution_count": 9,
   "metadata": {},
   "outputs": [],
   "source": [
    "data = np.array([\n",
    "    [7.0, 7.0, -1],\n",
    "    [2.8, 0.8, 1],\n",
    "    [1.2, 3.0, 1],\n",
    "    [7.8, 6.1, -1]\n",
    "])"
   ]
  },
  {
   "cell_type": "code",
   "execution_count": 10,
   "metadata": {},
   "outputs": [
    {
     "name": "stdout",
     "output_type": "stream",
     "text": [
      "Iteration 1:\n",
      "  Input: [7. 7.], Target: -1.0, Predicted: 1, Weights: [-2.05 -2.3  -1.  ]\n",
      "  Input: [2.8 0.8], Target: 1.0, Predicted: -1, Weights: [-0.93 -1.98 -0.6 ]\n",
      "  Input: [1.2 3. ], Target: 1.0, Predicted: -1, Weights: [-0.45 -0.78 -0.2 ]\n",
      "  Input: [7.8 6.1], Target: -1.0, Predicted: -1, Weights: [-0.45 -0.78 -0.2 ]\n",
      "\n",
      "Iteration 2:\n",
      "  Input: [7. 7.], Target: -1.0, Predicted: -1, Weights: [-0.45 -0.78 -0.2 ]\n",
      "  Input: [2.8 0.8], Target: 1.0, Predicted: -1, Weights: [ 0.67 -0.46  0.2 ]\n",
      "  Input: [1.2 3. ], Target: 1.0, Predicted: -1, Weights: [1.15 0.74 0.6 ]\n",
      "  Input: [7.8 6.1], Target: -1.0, Predicted: 1, Weights: [-1.97 -1.7   0.2 ]\n",
      "\n",
      "Iteration 3:\n",
      "  Input: [7. 7.], Target: -1.0, Predicted: -1, Weights: [-1.97 -1.7   0.2 ]\n",
      "  Input: [2.8 0.8], Target: 1.0, Predicted: -1, Weights: [-0.85 -1.38  0.6 ]\n",
      "  Input: [1.2 3. ], Target: 1.0, Predicted: -1, Weights: [-0.37 -0.18  1.  ]\n",
      "  Input: [7.8 6.1], Target: -1.0, Predicted: -1, Weights: [-0.37 -0.18  1.  ]\n",
      "\n",
      "Iteration 4:\n",
      "  Input: [7. 7.], Target: -1.0, Predicted: -1, Weights: [-0.37 -0.18  1.  ]\n",
      "  Input: [2.8 0.8], Target: 1.0, Predicted: -1, Weights: [0.75 0.14 1.4 ]\n",
      "  Input: [1.2 3. ], Target: 1.0, Predicted: 1, Weights: [0.75 0.14 1.4 ]\n",
      "  Input: [7.8 6.1], Target: -1.0, Predicted: 1, Weights: [-2.37 -2.3   1.  ]\n",
      "\n"
     ]
    }
   ],
   "source": [
    "for _ in range(4):\n",
    "    print(f\"Iteration {_ + 1}:\")\n",
    "    for i in range(len(data)):\n",
    "        x = np.array([data[i][0], data[i][1], 1])  \n",
    "        target = data[i][2]\n",
    "        \n",
    "        \n",
    "        dot_product = np.dot(weights, x)\n",
    "        \n",
    "        \n",
    "        predicted_output = threshold(dot_product)\n",
    "        \n",
    "        \n",
    "        if predicted_output != target:\n",
    "            weights[:-1] += learning_rate * (target - predicted_output) * x[:-1]\n",
    "            weights[-1] += learning_rate * (target - predicted_output)  \n",
    "        \n",
    "        print(f\"Input: {x[:2]}, Target: {target}, Predicted: {predicted_output}, Weights: {weights}\")\n",
    "        \n",
    "    print()"
   ]
  },
  {
   "cell_type": "code",
   "execution_count": 11,
   "metadata": {},
   "outputs": [
    {
     "name": "stdout",
     "output_type": "stream",
     "text": [
      "Equation of the separating line: -2.370 * X1 + -2.300 * X2 + 1.000 = 0\n"
     ]
    }
   ],
   "source": [
    "w1, w2, w3 = weights\n",
    "equation = f\"Equation of the separating line: {w1:.3f} * X1 + {w2:.3f} * X2 + {w3:.3f} = 0\"\n",
    "print(equation)"
   ]
  },
  {
   "cell_type": "code",
   "execution_count": null,
   "metadata": {},
   "outputs": [],
   "source": []
  }
 ],
 "metadata": {
  "kernelspec": {
   "display_name": "Python 3",
   "language": "python",
   "name": "python3"
  },
  "language_info": {
   "codemirror_mode": {
    "name": "ipython",
    "version": 3
   },
   "file_extension": ".py",
   "mimetype": "text/x-python",
   "name": "python",
   "nbconvert_exporter": "python",
   "pygments_lexer": "ipython3",
   "version": "3.7.6"
  }
 },
 "nbformat": 4,
 "nbformat_minor": 4
}
