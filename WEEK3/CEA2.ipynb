{
 "cells": [
  {
   "cell_type": "code",
   "execution_count": 1,
   "metadata": {},
   "outputs": [],
   "source": [
    "import numpy as np\n",
    "import pandas as pd"
   ]
  },
  {
   "cell_type": "code",
   "execution_count": 3,
   "metadata": {},
   "outputs": [
    {
     "name": "stdout",
     "output_type": "stream",
     "text": [
      "   example citations    size inLibrary       price editions  buy\n",
      "0        1      some   small        no  affordable     many   no\n",
      "1        2      many     big        no   expensive      one  yes\n",
      "2        3      some     big    always   expensive      few   no\n",
      "3        4      many  medium        no   expensive     many  yes\n",
      "4        5      many   small        no  affordable     many  yes\n"
     ]
    }
   ],
   "source": [
    "data = pd.DataFrame(data=pd.read_csv('data3.csv'))\n",
    "print(data)"
   ]
  },
  {
   "cell_type": "code",
   "execution_count": 5,
   "metadata": {},
   "outputs": [
    {
     "name": "stdout",
     "output_type": "stream",
     "text": [
      "[[1 'some' 'small' 'no' 'affordable']\n",
      " [2 'many' 'big' 'no' 'expensive']\n",
      " [3 'some' 'big' 'always' 'expensive']\n",
      " [4 'many' 'medium' 'no' 'expensive']\n",
      " [5 'many' 'small' 'no' 'affordable']]\n"
     ]
    }
   ],
   "source": [
    "concepts = np.array(data.iloc[:,0:-2])\n",
    "print(concepts)"
   ]
  },
  {
   "cell_type": "code",
   "execution_count": 6,
   "metadata": {},
   "outputs": [
    {
     "name": "stdout",
     "output_type": "stream",
     "text": [
      "['no' 'yes' 'no' 'yes' 'yes']\n"
     ]
    }
   ],
   "source": [
    "target = np.array(data.iloc[:,-1])\n",
    "print(target)"
   ]
  },
  {
   "cell_type": "code",
   "execution_count": 9,
   "metadata": {},
   "outputs": [],
   "source": [
    "def learn(concepts, target):\n",
    "    \n",
    "    '''\n",
    "    learn() function implements the learning method of the Candidate elimination algorithm.\n",
    "    Arguments:\n",
    "        concepts - a data frame with all the features\n",
    "        target - a data frame with corresponding output values\n",
    "    '''\n",
    "\n",
    "    # Initialise S0 with the first instance from concepts\n",
    "    # .copy() makes sure a new list is created instead of just pointing to the same memory location\n",
    "    specific_h = concepts[0].copy()\n",
    "    print(\"\\nInitialization of specific_h and general_h\")\n",
    "    print(specific_h)\n",
    "    #h=[\"#\" for i in range(0,5)]\n",
    "    #print(h)\n",
    "\n",
    "    general_h = [[\"?\" for i in range(len(specific_h))] for i in range(len(specific_h))]\n",
    "    print(general_h)\n",
    "    # The learning iterations\n",
    "    for i, h in enumerate(concepts):\n",
    "\n",
    "        # Checking if the hypothesis has a positive target\n",
    "        if target[i] == \"yes\":\n",
    "            for x in range(len(specific_h)):\n",
    "\n",
    "                # Change values in S & G only if values change\n",
    "                if h[x] != specific_h[x]:\n",
    "                    specific_h[x] = '?'\n",
    "                    general_h[x][x] = '?'\n",
    "\n",
    "        # Checking if the hypothesis has a positive target\n",
    "        if target[i] == \"no\":\n",
    "            for x in range(len(specific_h)):\n",
    "                # For negative hyposthesis change values only  in G\n",
    "                if h[x] != specific_h[x]:\n",
    "                    general_h[x][x] = specific_h[x]\n",
    "                else:\n",
    "                    general_h[x][x] = '?'\n",
    "\n",
    "        print(\"\\nSteps of Candidate Elimination Algorithm\",i+1)\n",
    "        print(specific_h)\n",
    "        print(general_h)\n",
    "    \n",
    "    # find indices where we have empty rows, meaning those that are unchanged\n",
    "    indices = [i for i, val in enumerate(general_h) if val == ['?', '?', '?', '?', '?']]\n",
    "    for i in indices:\n",
    "        # remove those rows from general_h\n",
    "        general_h.remove(['?', '?', '?', '?', '?'])\n",
    "    # Return final values\n",
    "    return specific_h, general_h\n"
   ]
  },
  {
   "cell_type": "code",
   "execution_count": 11,
   "metadata": {},
   "outputs": [
    {
     "name": "stdout",
     "output_type": "stream",
     "text": [
      "\n",
      "Initialization of specific_h and general_h\n",
      "[1 'some' 'small' 'no' 'affordable']\n",
      "[['?', '?', '?', '?', '?'], ['?', '?', '?', '?', '?'], ['?', '?', '?', '?', '?'], ['?', '?', '?', '?', '?'], ['?', '?', '?', '?', '?']]\n",
      "\n",
      "Steps of Candidate Elimination Algorithm 1\n",
      "[1 'some' 'small' 'no' 'affordable']\n",
      "[['?', '?', '?', '?', '?'], ['?', '?', '?', '?', '?'], ['?', '?', '?', '?', '?'], ['?', '?', '?', '?', '?'], ['?', '?', '?', '?', '?']]\n",
      "\n",
      "Steps of Candidate Elimination Algorithm 2\n",
      "['?' '?' '?' 'no' '?']\n",
      "[['?', '?', '?', '?', '?'], ['?', '?', '?', '?', '?'], ['?', '?', '?', '?', '?'], ['?', '?', '?', '?', '?'], ['?', '?', '?', '?', '?']]\n",
      "\n",
      "Steps of Candidate Elimination Algorithm 3\n",
      "['?' '?' '?' 'no' '?']\n",
      "[['?', '?', '?', '?', '?'], ['?', '?', '?', '?', '?'], ['?', '?', '?', '?', '?'], ['?', '?', '?', 'no', '?'], ['?', '?', '?', '?', '?']]\n",
      "\n",
      "Steps of Candidate Elimination Algorithm 4\n",
      "['?' '?' '?' 'no' '?']\n",
      "[['?', '?', '?', '?', '?'], ['?', '?', '?', '?', '?'], ['?', '?', '?', '?', '?'], ['?', '?', '?', 'no', '?'], ['?', '?', '?', '?', '?']]\n",
      "\n",
      "Steps of Candidate Elimination Algorithm 5\n",
      "['?' '?' '?' 'no' '?']\n",
      "[['?', '?', '?', '?', '?'], ['?', '?', '?', '?', '?'], ['?', '?', '?', '?', '?'], ['?', '?', '?', 'no', '?'], ['?', '?', '?', '?', '?']]\n",
      "\n",
      "Final Specific_h:\n",
      "['?' '?' '?' 'no' '?']\n",
      "\n",
      "Final General_h:\n",
      "[['?', '?', '?', 'no', '?']]\n"
     ]
    }
   ],
   "source": [
    "s_final, g_final = learn(concepts, target)\n",
    "print(\"\\nFinal Specific_h:\", s_final, sep=\"\\n\")\n",
    "print(\"\\nFinal General_h:\", g_final, sep=\"\\n\")"
   ]
  },
  {
   "cell_type": "code",
   "execution_count": null,
   "metadata": {},
   "outputs": [],
   "source": []
  }
 ],
 "metadata": {
  "kernelspec": {
   "display_name": "Python 3",
   "language": "python",
   "name": "python3"
  },
  "language_info": {
   "codemirror_mode": {
    "name": "ipython",
    "version": 3
   },
   "file_extension": ".py",
   "mimetype": "text/x-python",
   "name": "python",
   "nbconvert_exporter": "python",
   "pygments_lexer": "ipython3",
   "version": "3.7.6"
  }
 },
 "nbformat": 4,
 "nbformat_minor": 4
}
