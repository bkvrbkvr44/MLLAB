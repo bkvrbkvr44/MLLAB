{
 "cells": [
  {
   "cell_type": "code",
   "execution_count": 12,
   "metadata": {},
   "outputs": [
    {
     "name": "stdout",
     "output_type": "stream",
     "text": [
      "<_csv.reader object at 0x7fc1c9802f50>\n",
      "\n",
      "The given training examples are:\n",
      "['Example', 'Size', 'Color', 'Shape', 'Class/Label']\n",
      "['1', 'Big', 'Red', 'Circle', 'No']\n",
      "['2', 'Small', 'Red', 'Triangle', 'No']\n",
      "['3', 'Small', 'Red', 'Circle', 'Yes']\n",
      "['4', 'Big', 'Blue', 'Circle', 'No']\n",
      "['5', 'Small', 'Blue', 'Circle', 'Yes']\n"
     ]
    }
   ],
   "source": [
    "import csv\n",
    "hypo = ['%','%','%','%','%','%'];\n",
    "\n",
    "with open('data2.csv') as csv_file:\n",
    "    readcsv = csv.reader(csv_file, delimiter=',')\n",
    "    print(readcsv)\n",
    "    \n",
    "    data = []\n",
    "    print(\"\\nThe given training examples are:\")\n",
    "    for row in readcsv:\n",
    "        print(row)\n",
    "        if row[len(row)-1].upper() == \"YES\":\n",
    "            data.append(row)"
   ]
  },
  {
   "cell_type": "code",
   "execution_count": 13,
   "metadata": {},
   "outputs": [
    {
     "name": "stdout",
     "output_type": "stream",
     "text": [
      "\n",
      "The positive examples are:\n",
      "['3', 'Small', 'Red', 'Circle', 'Yes']\n",
      "['5', 'Small', 'Blue', 'Circle', 'Yes']\n",
      "\n",
      "\n"
     ]
    }
   ],
   "source": [
    "print(\"\\nThe positive examples are:\");\n",
    "for x in data:\n",
    "    print(x);\n",
    "print(\"\\n\");\n"
   ]
  },
  {
   "cell_type": "code",
   "execution_count": 14,
   "metadata": {},
   "outputs": [
    {
     "name": "stdout",
     "output_type": "stream",
     "text": [
      "The steps of the Find-s algorithm are :\n",
      " ['%', '%', '%', '%', '%', '%']\n",
      "['3', 'Small', 'Red', 'Circle']\n",
      "['?', 'Small', '?', 'Circle']\n"
     ]
    }
   ],
   "source": [
    "TotalExamples = len(data);\n",
    "i=0;\n",
    "j=0;\n",
    "k=0;\n",
    "print(\"The steps of the Find-s algorithm are :\\n\",hypo);\n",
    "list = [];\n",
    "p=0;\n",
    "d=len(data[p])-1;\n",
    "for j in range(d):\n",
    "    list.append(data[i][j]);\n",
    "hypo=list;\n",
    "i=1;\n",
    "for i in range(TotalExamples):\n",
    "    for k in range(d):\n",
    "        if hypo[k]!=data[i][k]:\n",
    "            hypo[k]='?';\n",
    "            k=k+1;        \n",
    "        else:\n",
    "            hypo[k];\n",
    "    print(hypo);\n",
    "i=i+1;"
   ]
  },
  {
   "cell_type": "code",
   "execution_count": 15,
   "metadata": {},
   "outputs": [
    {
     "name": "stdout",
     "output_type": "stream",
     "text": [
      "\n",
      "The maximally specific Find-s hypothesis for the given training examples is :\n",
      "['?', 'Small', '?', 'Circle']\n"
     ]
    }
   ],
   "source": [
    "print(\"\\nThe maximally specific Find-s hypothesis for the given training examples is :\");\n",
    "list=[];\n",
    "for i in range(d):\n",
    "    list.append(hypo[i]);\n",
    "print(list);"
   ]
  },
  {
   "cell_type": "code",
   "execution_count": null,
   "metadata": {},
   "outputs": [],
   "source": []
  }
 ],
 "metadata": {
  "kernelspec": {
   "display_name": "Python 3",
   "language": "python",
   "name": "python3"
  },
  "language_info": {
   "codemirror_mode": {
    "name": "ipython",
    "version": 3
   },
   "file_extension": ".py",
   "mimetype": "text/x-python",
   "name": "python",
   "nbconvert_exporter": "python",
   "pygments_lexer": "ipython3",
   "version": "3.7.6"
  }
 },
 "nbformat": 4,
 "nbformat_minor": 4
}
