{
 "cells": [
  {
   "cell_type": "code",
   "execution_count": 1,
   "metadata": {},
   "outputs": [],
   "source": [
    "import numpy as np\n",
    "\n",
    "def sigmoid(x):\n",
    "    return 1 / (1 + np.exp(-x))\n"
   ]
  },
  {
   "cell_type": "code",
   "execution_count": 2,
   "metadata": {},
   "outputs": [],
   "source": [
    "w1 = 0.7\n",
    "w2 = 0.2\n",
    "w3 = -0.4\n",
    "w4 = 0.3\n",
    "w5 = 0.5\n",
    "w6 = 0.1\n",
    "b1=0.4\n",
    "b2=0.6\n",
    "b3=-0.3\n",
    "learning_rate = 0.25\n",
    "\n",
    "# Inputs\n",
    "input1 = -1\n",
    "input2 = 1\n",
    "\n",
    "# Target outputs\n",
    "t1 = 1\n",
    "\n",
    "# Training iterations\n",
    "num_iterations = 1\n"
   ]
  },
  {
   "cell_type": "code",
   "execution_count": 3,
   "metadata": {},
   "outputs": [
    {
     "name": "stdout",
     "output_type": "stream",
     "text": [
      "0.1268804232782313\n",
      "0.4962531920136241\n",
      "Final Weights and Biases:\n",
      "w1 = 0.6961, w2 = 0.1995, w3 = -0.3961, w4 = 0.3005\n",
      "w5 = 0.5150, w6 = 0.1247\n"
     ]
    }
   ],
   "source": [
    "# Training loop\n",
    "for iteration in range(num_iterations):\n",
    "    # Forward Pass\n",
    "    z_h1 = w1 * input1 + w2 * input2 +b1\n",
    "    z_h2 = w3 * input1 + w4 * input2 +b2\n",
    "    h1 = sigmoid(z_h1)\n",
    "    h2 = sigmoid(z_h2)\n",
    "    \n",
    "    z_o1 = w5 * h1 + w6 * h1+b3\n",
    "    o1 = sigmoid(z_o1)\n",
    "\n",
    "    # Calculate errors\n",
    "    \n",
    "\n",
    "    # Backward Pass\n",
    "    delta_o1 = -(t1 - o1) * o1 * (1 - o1)\n",
    "    \n",
    "    delta_h1 = (delta_o1 * w5 ) * h1 * (1 - h1)\n",
    "    delta_h2 = (delta_o1 * w6) * h2 * (1 - h2)\n",
    "    \n",
    "    # Update weights and biases\n",
    "    w5 -= learning_rate * delta_o1 * h1\n",
    "    w6 -= learning_rate * delta_o1 * h2\n",
    "   \n",
    "\n",
    "    w1 -= learning_rate * delta_h1 * input1\n",
    "    w2 -= learning_rate * delta_h2 * input1\n",
    "    w3 -= learning_rate * delta_h1 * input2\n",
    "    w4 -= learning_rate * delta_h2 * input2\n",
    "E_o1 = 0.5 * (t1 - o1) ** 2\n",
    "\n",
    "print(E_o1)\n",
    "print(o1)\n",
    "# Print the final weights and biases\n",
    "print(\"Final Weights and Biases:\")\n",
    "print(f\"w1 = {w1:.4f}, w2 = {w2:.4f}, w3 = {w3:.4f}, w4 = {w4:.4f}\")\n",
    "print(f\"w5 = {w5:.4f}, w6 = {w6:.4f}\")"
   ]
  },
  {
   "cell_type": "code",
   "execution_count": 6,
   "metadata": {},
   "outputs": [],
   "source": [
    "import math\n",
    "def tanh(x):\n",
    "    return ((math.exp(x))+math.exp(-x)/(math.exp(x)+math.exp(-x)))"
   ]
  },
  {
   "cell_type": "code",
   "execution_count": 7,
   "metadata": {},
   "outputs": [
    {
     "name": "stdout",
     "output_type": "stream",
     "text": [
      "0.6058726527025432\n",
      "2.1007930347731523\n",
      "Final Weights and Biases:\n",
      "w1 = 0.9137, w2 = 1.0060, w3 = -0.6137, w4 = -0.5060\n",
      "w5 = 1.4416, w6 = 2.4963\n"
     ]
    }
   ],
   "source": [
    "# Training loop\n",
    "for iteration in range(num_iterations):\n",
    "    # Forward Pass\n",
    "    z_h1 = w1 * input1 + w2 * input2 +b1\n",
    "    z_h2 = w3 * input1 + w4 * input2 +b2\n",
    "    h1 = tanh(z_h1)\n",
    "    h2 = tanh(z_h2)\n",
    "    \n",
    "    z_o1 = w5 * h1 + w6 * h1+b3\n",
    "    o1 = tanh(z_o1)\n",
    "\n",
    "    # Calculate errors\n",
    "    \n",
    "\n",
    "    # Backward Pass\n",
    "    delta_o1 = -(t1 - o1) * o1 * (1 - o1)\n",
    "    \n",
    "    delta_h1 = (delta_o1 * w5 ) * h1 * (1 - h1)\n",
    "    delta_h2 = (delta_o1 * w6) * h2 * (1 - h2)\n",
    "    \n",
    "    # Update weights and biases\n",
    "    w5 -= learning_rate * delta_o1 * h1\n",
    "    w6 -= learning_rate * delta_o1 * h2\n",
    "   \n",
    "\n",
    "    w1 -= learning_rate * delta_h1 * input1\n",
    "    w2 -= learning_rate * delta_h2 * input1\n",
    "    w3 -= learning_rate * delta_h1 * input2\n",
    "    w4 -= learning_rate * delta_h2 * input2\n",
    "E_o1 = 0.5 * (t1 - o1) ** 2\n",
    "\n",
    "print(E_o1)\n",
    "print(o1)\n",
    "# Print the final weights and biases\n",
    "print(\"Final Weights and Biases:\")\n",
    "print(f\"w1 = {w1:.4f}, w2 = {w2:.4f}, w3 = {w3:.4f}, w4 = {w4:.4f}\")\n",
    "print(f\"w5 = {w5:.4f}, w6 = {w6:.4f}\")\n",
    "\n"
   ]
  },
  {
   "cell_type": "code",
   "execution_count": 8,
   "metadata": {},
   "outputs": [],
   "source": [
    "def relu(x):\n",
    "    return max(0,x)\n"
   ]
  },
  {
   "cell_type": "code",
   "execution_count": 9,
   "metadata": {},
   "outputs": [
    {
     "name": "stdout",
     "output_type": "stream",
     "text": [
      "0.20394839819962637\n",
      "1.638667986045373\n",
      "Final Weights and Biases:\n",
      "w1 = 0.8535, w2 = 0.9197, w3 = -0.5535, w4 = -0.4197\n",
      "w5 = 1.5239, w6 = 2.6145\n"
     ]
    }
   ],
   "source": [
    "# Training loop\n",
    "for iteration in range(num_iterations):\n",
    "    # Forward Pass\n",
    "    z_h1 = w1 * input1 + w2 * input2 +b1\n",
    "    z_h2 = w3 * input1 + w4 * input2 +b2\n",
    "    h1 = relu(z_h1)\n",
    "    h2 = relu(z_h2)\n",
    "    \n",
    "    z_o1 = w5 * h1 + w6 * h1+b3\n",
    "    o1 = relu(z_o1)\n",
    "\n",
    "    # Calculate errors\n",
    "    \n",
    "\n",
    "    # Backward Pass\n",
    "    delta_o1 = -(t1 - o1) * o1 * (1 - o1)\n",
    "    \n",
    "    delta_h1 = (delta_o1 * w5 ) * h1 * (1 - h1)\n",
    "    delta_h2 = (delta_o1 * w6) * h2 * (1 - h2)\n",
    "    \n",
    "    # Update weights and biases\n",
    "    w5 -= learning_rate * delta_o1 * h1\n",
    "    w6 -= learning_rate * delta_o1 * h2\n",
    "   \n",
    "\n",
    "    w1 -= learning_rate * delta_h1 * input1\n",
    "    w2 -= learning_rate * delta_h2 * input1\n",
    "    w3 -= learning_rate * delta_h1 * input2\n",
    "    w4 -= learning_rate * delta_h2 * input2\n",
    "E_o1 = 0.5 * (t1 - o1) ** 2\n",
    "\n",
    "print(E_o1)\n",
    "print(o1)\n",
    "# Print the final weights and biases\n",
    "print(\"Final Weights and Biases:\")\n",
    "print(f\"w1 = {w1:.4f}, w2 = {w2:.4f}, w3 = {w3:.4f}, w4 = {w4:.4f}\")\n",
    "print(f\"w5 = {w5:.4f}, w6 = {w6:.4f}\")\n",
    "\n"
   ]
  },
  {
   "cell_type": "code",
   "execution_count": null,
   "metadata": {},
   "outputs": [],
   "source": []
  }
 ],
 "metadata": {
  "kernelspec": {
   "display_name": "Python 3",
   "language": "python",
   "name": "python3"
  },
  "language_info": {
   "codemirror_mode": {
    "name": "ipython",
    "version": 3
   },
   "file_extension": ".py",
   "mimetype": "text/x-python",
   "name": "python",
   "nbconvert_exporter": "python",
   "pygments_lexer": "ipython3",
   "version": "3.7.6"
  }
 },
 "nbformat": 4,
 "nbformat_minor": 4
}
