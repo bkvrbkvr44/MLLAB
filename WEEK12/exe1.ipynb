{
 "cells": [
  {
   "cell_type": "code",
   "execution_count": 1,
   "metadata": {},
   "outputs": [
    {
     "name": "stdout",
     "output_type": "stream",
     "text": [
      "The predicted outcome is: No\n"
     ]
    }
   ],
   "source": [
    "import pandas as pd\n",
    "import numpy as np\n",
    "\n",
    "# Define the dataset\n",
    "data = {\n",
    "    'Outlook': ['Rainy', 'Rainy', 'Overcast', 'Sunny', 'Sunny', 'Sunny', 'Overcast', 'Rainy', 'Rainy', 'Sunny', 'Rainy', 'Overcast', 'Overcast', 'Sunny'],\n",
    "    'Temperature': ['Hot', 'Hot', 'Hot', 'Mild', 'Cool', 'Cool', 'Cool', 'Mild', 'Cool', 'Mild', 'Mild', 'Mild', 'Hot', 'Mild'],\n",
    "    'Humidity': ['High', 'High', 'High', 'High', 'Normal', 'Normal', 'Normal', 'High', 'Normal', 'Normal', 'Normal', 'High', 'Normal', 'High'],\n",
    "    'Windy': [False, True, False, False, False, True, True, False, False, False, True, True, False, True],\n",
    "    'Play Golf': ['No', 'No', 'Yes', 'Yes', 'Yes', 'No', 'Yes', 'No', 'Yes', 'Yes', 'Yes', 'Yes', 'Yes', 'No']\n",
    "}\n",
    "\n",
    "df = pd.DataFrame(data)\n",
    "\n",
    "def build_decision_tree(data):\n",
    "    unique_labels = data['Play Golf'].unique()\n",
    "\n",
    "    if len(unique_labels) == 1:\n",
    "        return unique_labels[0]\n",
    "\n",
    "    num_features = len(data.columns) - 1\n",
    "    best_feature = None\n",
    "    best_gain = -1\n",
    "\n",
    "    for feature in data.columns[:-1]:\n",
    "        unique_values = data[feature].unique()\n",
    "        current_entropy = calculate_entropy(data)\n",
    "        new_entropy = 0\n",
    "\n",
    "        for value in unique_values:\n",
    "            sub_data = data[data[feature] == value]\n",
    "            sub_entropy = calculate_entropy(sub_data)\n",
    "            weight = len(sub_data) / len(data)\n",
    "            new_entropy += weight * sub_entropy\n",
    "\n",
    "        information_gain = current_entropy - new_entropy\n",
    "\n",
    "        if information_gain > best_gain:\n",
    "            best_gain = information_gain\n",
    "            best_feature = feature\n",
    "\n",
    "    if best_gain == 0:\n",
    "        return data['Play Golf'].mode()[0]\n",
    "\n",
    "    node = {}\n",
    "    node[best_feature] = {}\n",
    "\n",
    "    unique_values = data[best_feature].unique()\n",
    "\n",
    "    for value in unique_values:\n",
    "        sub_data = data[data[best_feature] == value]\n",
    "        node[best_feature][value] = build_decision_tree(sub_data)\n",
    "\n",
    "    return node\n",
    "\n",
    "def calculate_entropy(data):\n",
    "    labels, counts = np.unique(data['Play Golf'], return_counts=True)\n",
    "    probabilities = counts / len(data)\n",
    "    entropy = -np.sum(probabilities * np.log2(probabilities))\n",
    "    return entropy\n",
    "\n",
    "def predict(tree, sample):\n",
    "    feature = next(iter(tree))\n",
    "    value = sample[feature]\n",
    "    prediction = tree[feature][value]\n",
    "\n",
    "    if isinstance(prediction, dict):\n",
    "        return predict(prediction, sample)\n",
    "    else:\n",
    "        return prediction\n",
    "\n",
    "# Example usage:\n",
    "tree = build_decision_tree(df)\n",
    "\n",
    "sample = {'Outlook': 'Rainy', 'Temperature': 'Mild', 'Humidity': 'High', 'Windy': False}\n",
    "prediction = predict(tree, sample)\n",
    "print(f\"The predicted outcome is: {prediction}\")\n"
   ]
  },
  {
   "cell_type": "code",
   "execution_count": null,
   "metadata": {},
   "outputs": [],
   "source": []
  }
 ],
 "metadata": {
  "kernelspec": {
   "display_name": "Python 3",
   "language": "python",
   "name": "python3"
  },
  "language_info": {
   "codemirror_mode": {
    "name": "ipython",
    "version": 3
   },
   "file_extension": ".py",
   "mimetype": "text/x-python",
   "name": "python",
   "nbconvert_exporter": "python",
   "pygments_lexer": "ipython3",
   "version": "3.7.6"
  }
 },
 "nbformat": 4,
 "nbformat_minor": 4
}
