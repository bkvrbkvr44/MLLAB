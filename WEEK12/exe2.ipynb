{
 "cells": [
  {
   "cell_type": "code",
   "execution_count": 2,
   "metadata": {},
   "outputs": [
    {
     "name": "stdout",
     "output_type": "stream",
     "text": [
      "The predicted species of the new flower is: Iris-setosa\n"
     ]
    }
   ],
   "source": [
    "import pandas as pd\n",
    "from sklearn.tree import DecisionTreeClassifier\n",
    "\n",
    "# Step 1: Load the dataset\n",
    "data = pd.read_csv('data4_19.csv')\n",
    "\n",
    "# Step 2: Preprocess the data\n",
    "X = data.iloc[:, :-1]  # Features (sepal length, sepal width, petal length, petal width)\n",
    "y = data.iloc[:, -1]   # Target variable (species)\n",
    "\n",
    "# Step 3: Build the Decision Tree\n",
    "clf = DecisionTreeClassifier(random_state=42)\n",
    "clf.fit(X, y)\n",
    "\n",
    "# Step 4: Make a prediction\n",
    "new_flower_measurements = [[5.2, 3.1, 1.4, 0.2]]\n",
    "predicted_species = clf.predict(new_flower_measurements)\n",
    "\n",
    "# Print the predicted species\n",
    "print(f\"The predicted species of the new flower is: {predicted_species[0]}\")\n"
   ]
  },
  {
   "cell_type": "code",
   "execution_count": null,
   "metadata": {},
   "outputs": [],
   "source": []
  }
 ],
 "metadata": {
  "kernelspec": {
   "display_name": "Python 3",
   "language": "python",
   "name": "python3"
  },
  "language_info": {
   "codemirror_mode": {
    "name": "ipython",
    "version": 3
   },
   "file_extension": ".py",
   "mimetype": "text/x-python",
   "name": "python",
   "nbconvert_exporter": "python",
   "pygments_lexer": "ipython3",
   "version": "3.7.6"
  }
 },
 "nbformat": 4,
 "nbformat_minor": 4
}
